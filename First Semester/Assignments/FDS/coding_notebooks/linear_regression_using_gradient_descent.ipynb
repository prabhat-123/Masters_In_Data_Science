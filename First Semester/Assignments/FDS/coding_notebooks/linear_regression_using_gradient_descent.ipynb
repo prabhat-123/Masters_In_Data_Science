{
 "cells": [
  {
   "cell_type": "code",
   "execution_count": 9,
   "id": "4bb062b1",
   "metadata": {},
   "outputs": [],
   "source": [
    "import numpy as np\n",
    "import pandas as pd\n",
    "import matplotlib.pyplot as plt\n",
    "\n",
    "from sklearn.model_selection import train_test_split\n",
    "from sklearn.metrics import mean_squared_error, r2_score"
   ]
  },
  {
   "cell_type": "code",
   "execution_count": 10,
   "id": "9bede05d",
   "metadata": {},
   "outputs": [],
   "source": [
    "np.random.seed(22)"
   ]
  },
  {
   "cell_type": "markdown",
   "id": "82c8dc1b",
   "metadata": {},
   "source": [
    "## Prepare Toy Dataset\n",
    "\n",
    "#### Use equation: 2*x1 + 5"
   ]
  },
  {
   "cell_type": "code",
   "execution_count": 32,
   "id": "3379130f",
   "metadata": {},
   "outputs": [],
   "source": [
    "x1 = np.random.randn(1000) \n",
    "y = 2 * x1 + 5 + np.random.randn(1000) * 0.9"
   ]
  },
  {
   "cell_type": "code",
   "execution_count": 33,
   "id": "7d9a14e5",
   "metadata": {},
   "outputs": [
    {
     "name": "stdout",
     "output_type": "stream",
     "text": [
      "(1000, 2)\n"
     ]
    },
    {
     "data": {
      "text/html": [
       "<div>\n",
       "<style scoped>\n",
       "    .dataframe tbody tr th:only-of-type {\n",
       "        vertical-align: middle;\n",
       "    }\n",
       "\n",
       "    .dataframe tbody tr th {\n",
       "        vertical-align: top;\n",
       "    }\n",
       "\n",
       "    .dataframe thead th {\n",
       "        text-align: right;\n",
       "    }\n",
       "</style>\n",
       "<table border=\"1\" class=\"dataframe\">\n",
       "  <thead>\n",
       "    <tr style=\"text-align: right;\">\n",
       "      <th></th>\n",
       "      <th>x1</th>\n",
       "      <th>y1</th>\n",
       "    </tr>\n",
       "  </thead>\n",
       "  <tbody>\n",
       "    <tr>\n",
       "      <th>0</th>\n",
       "      <td>0.401379</td>\n",
       "      <td>6.991158</td>\n",
       "    </tr>\n",
       "    <tr>\n",
       "      <th>1</th>\n",
       "      <td>-0.999815</td>\n",
       "      <td>4.144995</td>\n",
       "    </tr>\n",
       "    <tr>\n",
       "      <th>2</th>\n",
       "      <td>0.043209</td>\n",
       "      <td>4.906988</td>\n",
       "    </tr>\n",
       "    <tr>\n",
       "      <th>3</th>\n",
       "      <td>-1.187357</td>\n",
       "      <td>2.872156</td>\n",
       "    </tr>\n",
       "    <tr>\n",
       "      <th>4</th>\n",
       "      <td>1.151496</td>\n",
       "      <td>7.819742</td>\n",
       "    </tr>\n",
       "  </tbody>\n",
       "</table>\n",
       "</div>"
      ],
      "text/plain": [
       "         x1        y1\n",
       "0  0.401379  6.991158\n",
       "1 -0.999815  4.144995\n",
       "2  0.043209  4.906988\n",
       "3 -1.187357  2.872156\n",
       "4  1.151496  7.819742"
      ]
     },
     "execution_count": 33,
     "metadata": {},
     "output_type": "execute_result"
    }
   ],
   "source": [
    "df = pd.DataFrame({\"x1\": x1,\n",
    "                  \"y1\": y})\n",
    "print(df.shape)\n",
    "df.head()"
   ]
  },
  {
   "cell_type": "markdown",
   "id": "3895a24e",
   "metadata": {},
   "source": [
    "## Plot the graph"
   ]
  },
  {
   "cell_type": "code",
   "execution_count": 34,
   "id": "a5865d71",
   "metadata": {},
   "outputs": [
    {
     "data": {
      "text/plain": [
       "<matplotlib.collections.PathCollection at 0x72c509f5f550>"
      ]
     },
     "execution_count": 34,
     "metadata": {},
     "output_type": "execute_result"
    },
    {
     "data": {
      "image/png": "[encoded data removed]",
      "text/plain": [
       "<Figure size 640x480 with 1 Axes>"
      ]
     },
     "metadata": {},
     "output_type": "display_data"
    }
   ],
   "source": [
    "plt.scatter(x1, y)"
   ]
  },
  {
   "cell_type": "code",
   "execution_count": 35,
   "id": "f120cfeb",
   "metadata": {},
   "outputs": [],
   "source": [
    "def scale(d):\n",
    "    mean = d.mean()\n",
    "    std = d.std()\n",
    "    return (d - mean)/std\n",
    "\n",
    "\n",
    "def data_iter(batch_size, features, labels):\n",
    "    num_examples = len(features)\n",
    "    indices = list(range(num_examples))\n",
    "    \n",
    "    ## The examples are read at random, in no particular order\n",
    "    np.random.shuffle(indices)\n",
    "    for i in range(0, num_examples, batch_size):\n",
    "        batch_indices = np.array(indices[i: min(i + batch_size, num_examples)])\n",
    "        \n",
    "        yield features[batch_indices], labels[batch_indices]"
   ]
  },
  {
   "cell_type": "markdown",
   "id": "43e9096b",
   "metadata": {},
   "source": [
    "## Get Features and Labels with scaling in place"
   ]
  },
  {
   "cell_type": "code",
   "execution_count": 39,
   "id": "e43e7bc5",
   "metadata": {},
   "outputs": [],
   "source": [
    "features = scale(\n",
    "    np.reshape(np.array(df.iloc[:,0]), (len(df), 1))\n",
    ")\n",
    "\n",
    "labels = scale(\n",
    "np.reshape(np.array(df.iloc[:, 1]), (len(df), 1)))"
   ]
  },
  {
   "cell_type": "markdown",
   "id": "3df0b092",
   "metadata": {},
   "source": [
    "## Plot the data for Exploration"
   ]
  },
  {
   "cell_type": "code",
   "execution_count": 40,
   "id": "7e066b8f",
   "metadata": {},
   "outputs": [
    {
     "data": {
      "image/png": "[encoded data removed]",
      "text/plain": [
       "<Figure size 640x480 with 1 Axes>"
      ]
     },
     "metadata": {},
     "output_type": "display_data"
    }
   ],
   "source": [
    "plt.scatter(features, labels)\n",
    "plt.show()"
   ]
  },
  {
   "cell_type": "code",
   "execution_count": 41,
   "id": "5d631d9c",
   "metadata": {},
   "outputs": [],
   "source": [
    "class LinearRegression:\n",
    "    def __init__(self, X, y, W, b):\n",
    "        self.X = X\n",
    "        self.y = y\n",
    "        self.W = W\n",
    "        self.b = b\n",
    "        self.y_pred = self.LinearModel()\n",
    "        \n",
    "    def LinearModel(self):\n",
    "        return np.dot(self.X, self.W) + self.b\n",
    "    \n",
    "    def mse_loss(self, y, y_pred):\n",
    "        return np.mean(sum(np.square(y - y_pred))) / 2\n",
    "    \n",
    "    ## Change the value of batch size for batch and stochastic\n",
    "    def train(self, num_epochs = 10, batch_size = 10):\n",
    "        # Training\n",
    "        for epoch in range(num_epochs):\n",
    "            for X, y in data_iter(batch_size, self.X, self.y):\n",
    "                y_pred = self.predict(X)\n",
    "                \n",
    "                error = (y - y_pred)\n",
    "                \n",
    "                # Update parameters using their gradient\n",
    "                grad_W = np.sum(error.T.dot(X))\n",
    "                grad_b = np.sum((y - y_pred))\n",
    "                \n",
    "                # Set the update rule\n",
    "                self.W = self.W + (1/batch_size * lr * grad_W)\n",
    "                self.b = self.b + (1/batch_size * lr * grad_b)\n",
    "            \n",
    "            y_pred = self.predict(X)\n",
    "            final_loss = self.mse_loss(y, y_pred)/ batch_size\n",
    "            print(f'epoch {epoch + 1}, loss {float(final_loss): f}')\n",
    "            \n",
    "    def predict(self, X):\n",
    "        return np.dot(X, self.W) + self.b"
   ]
  },
  {
   "cell_type": "code",
   "execution_count": 42,
   "id": "5f46f1c5",
   "metadata": {},
   "outputs": [],
   "source": [
    "np.random.seed(20)\n",
    "lr = 0.0001\n",
    "num_epochs = 50\n",
    "batch_size = 100"
   ]
  },
  {
   "cell_type": "code",
   "execution_count": 43,
   "id": "3e2686e6",
   "metadata": {},
   "outputs": [],
   "source": [
    "W = np.random.normal(1, 0.001, size = (1, 1))\n",
    "b = np.zeros(1)\n",
    "linear_regression_model = LinearRegression(features, labels, W, b)"
   ]
  },
  {
   "cell_type": "markdown",
   "id": "8dc91cb9",
   "metadata": {},
   "source": [
    "## Train the model"
   ]
  },
  {
   "cell_type": "code",
   "execution_count": 46,
   "id": "3e7eb831",
   "metadata": {},
   "outputs": [
    {
     "name": "stdout",
     "output_type": "stream",
     "text": [
      "epoch 1, loss  0.060305\n",
      "epoch 2, loss  0.099446\n",
      "epoch 3, loss  0.096562\n",
      "epoch 4, loss  0.102188\n",
      "epoch 5, loss  0.076639\n",
      "epoch 6, loss  0.088850\n",
      "epoch 7, loss  0.092018\n",
      "epoch 8, loss  0.103384\n",
      "epoch 9, loss  0.078041\n",
      "epoch 10, loss  0.078018\n",
      "epoch 11, loss  0.082869\n",
      "epoch 12, loss  0.074656\n",
      "epoch 13, loss  0.070597\n",
      "epoch 14, loss  0.099387\n",
      "epoch 15, loss  0.100566\n",
      "epoch 16, loss  0.095868\n",
      "epoch 17, loss  0.101395\n",
      "epoch 18, loss  0.087346\n",
      "epoch 19, loss  0.083278\n",
      "epoch 20, loss  0.089114\n",
      "epoch 21, loss  0.103541\n",
      "epoch 22, loss  0.085831\n",
      "epoch 23, loss  0.067078\n",
      "epoch 24, loss  0.079956\n",
      "epoch 25, loss  0.075937\n",
      "epoch 26, loss  0.080226\n",
      "epoch 27, loss  0.094781\n",
      "epoch 28, loss  0.070493\n",
      "epoch 29, loss  0.078825\n",
      "epoch 30, loss  0.063586\n",
      "epoch 31, loss  0.072197\n",
      "epoch 32, loss  0.066981\n",
      "epoch 33, loss  0.069494\n",
      "epoch 34, loss  0.093572\n",
      "epoch 35, loss  0.074720\n",
      "epoch 36, loss  0.056024\n",
      "epoch 37, loss  0.097361\n",
      "epoch 38, loss  0.074166\n",
      "epoch 39, loss  0.084801\n",
      "epoch 40, loss  0.069503\n",
      "epoch 41, loss  0.093989\n",
      "epoch 42, loss  0.085196\n",
      "epoch 43, loss  0.054314\n",
      "epoch 44, loss  0.058700\n",
      "epoch 45, loss  0.077202\n",
      "epoch 46, loss  0.090014\n",
      "epoch 47, loss  0.068875\n",
      "epoch 48, loss  0.069693\n",
      "epoch 49, loss  0.075354\n",
      "epoch 50, loss  0.090244\n"
     ]
    }
   ],
   "source": [
    "linear_regression_model.train(num_epochs = num_epochs, batch_size = batch_size)"
   ]
  },
  {
   "cell_type": "code",
   "execution_count": null,
   "id": "46a4b30d",
   "metadata": {},
   "outputs": [],
   "source": []
  }
 ],
 "metadata": {
  "kernelspec": {
   "display_name": "Python 3 (ipykernel)",
   "language": "python",
   "name": "python3"
  },
  "language_info": {
   "codemirror_mode": {
    "name": "ipython",
    "version": 3
   },
   "file_extension": ".py",
   "mimetype": "text/x-python",
   "name": "python",
   "nbconvert_exporter": "python",
   "pygments_lexer": "ipython3",
   "version": "3.9.0"
  }
 },
 "nbformat": 4,
 "nbformat_minor": 5
}
